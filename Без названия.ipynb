{
 "cells": [
  {
   "cell_type": "code",
   "execution_count": 66,
   "id": "e8efff12",
   "metadata": {},
   "outputs": [],
   "source": [
    "def median(lst_in, range_in):\n",
    "    num_0 = 0\n",
    "    num_1 = 0\n",
    "    for i in range(len(lst_in)): \n",
    "        if(lst_in[i] == 0):\n",
    "            num_0 = num_0 +1\n",
    "        else:\n",
    "            num_1 = num_1 +1\n",
    "    if(num_0 > num_1): \n",
    "        return 0\n",
    "    elif(num_1 > num_0):\n",
    "        return 1\n",
    "    else:\n",
    "        return 0.5"
   ]
  },
  {
   "cell_type": "code",
   "execution_count": 67,
   "id": "7a05fe86",
   "metadata": {},
   "outputs": [
    {
     "name": "stdout",
     "output_type": "stream",
     "text": [
      "2\n",
      "10\n",
      "0.5\n"
     ]
    }
   ],
   "source": [
    "num = input()\n",
    "num = int(num)\n",
    "binary = input ()\n",
    "binary = str(binary)\n",
    "lst = []\n",
    "for i in range(num):\n",
    "    lst = lst + [int(binary[i])]\n",
    "print(median(lst,num))"
   ]
  },
  {
   "cell_type": "code",
   "execution_count": null,
   "id": "db3d4f40",
   "metadata": {},
   "outputs": [],
   "source": []
  }
 ],
 "metadata": {
  "kernelspec": {
   "display_name": "Python 3 (ipykernel)",
   "language": "python",
   "name": "python3"
  },
  "language_info": {
   "codemirror_mode": {
    "name": "ipython",
    "version": 3
   },
   "file_extension": ".py",
   "mimetype": "text/x-python",
   "name": "python",
   "nbconvert_exporter": "python",
   "pygments_lexer": "ipython3",
   "version": "3.9.12"
  }
 },
 "nbformat": 4,
 "nbformat_minor": 5
}
